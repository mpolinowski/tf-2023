{
 "cells": [
  {
   "cell_type": "markdown",
   "id": "ccae5d38",
   "metadata": {},
   "source": [
    "# Generative Adverserial Networks\n",
    "\n",
    "GANs are a framework for teaching a DL model to capture the training data’s distribution so we can generate new data from that same distribution."
   ]
  },
  {
   "cell_type": "code",
   "execution_count": 1,
   "id": "7f478967",
   "metadata": {
    "collapsed": true
   },
   "outputs": [
    {
     "name": "stderr",
     "output_type": "stream",
     "text": [
      "2023-03-26 21:07:08.863801: I tensorflow/core/platform/cpu_feature_guard.cc:193] This TensorFlow binary is optimized with oneAPI Deep Neural Network Library (oneDNN) to use the following CPU instructions in performance-critical operations:  FMA\n",
      "To enable them in other operations, rebuild TensorFlow with the appropriate compiler flags.\n"
     ]
    }
   ],
   "source": [
    "import matplotlib.pyplot as plt\n",
    "import numpy as np\n",
    "import pandas as pd\n",
    "import tensorflow as tf\n",
    "from tensorflow.keras.datasets import mnist\n",
    "from tensorflow.keras.layers import Dense,Reshape,Dropout,LeakyReLU,Flatten,BatchNormalization,Conv2D,Conv2DTranspose\n",
    "from tensorflow.keras.models import Sequential"
   ]
  },
  {
   "cell_type": "code",
   "execution_count": 2,
   "id": "872ed8dd",
   "metadata": {},
   "outputs": [],
   "source": [
    "SEED = 42\n",
    "INPUT_SHAPE = 100\n",
    "BATCH_SIZE = 32\n",
    "EPOCHS = 25"
   ]
  },
  {
   "cell_type": "markdown",
   "id": "0975ecf5",
   "metadata": {},
   "source": [
    "## Dataset\n",
    "\n",
    "Using a GAN to generate \"fake\" MNIST digit images."
   ]
  },
  {
   "cell_type": "code",
   "execution_count": 3,
   "id": "62f6da06",
   "metadata": {
    "collapsed": true
   },
   "outputs": [
    {
     "data": {
      "image/png": "[encoded data removed]",
      "text/plain": [
       "<Figure size 640x480 with 1 Axes>"
      ]
     },
     "metadata": {},
     "output_type": "display_data"
    }
   ],
   "source": [
    "# setting up the dataset\n",
    "(X_train, y_train), (X_test, y_test) = mnist.load_data()\n",
    "\n",
    "plt.imshow(X_train[8888])\n",
    "plt.title(y_train[8888])\n",
    "plt.show()"
   ]
  },
  {
   "cell_type": "markdown",
   "id": "8ea97472",
   "metadata": {},
   "source": [
    "![Generative Adverserial Networks](../assets/05_Tensorflow_Unsupervised_Learning_19.png)"
   ]
  },
  {
   "cell_type": "code",
   "execution_count": 4,
   "id": "e5b385d0",
   "metadata": {
    "scrolled": true
   },
   "outputs": [
    {
     "name": "stdout",
     "output_type": "stream",
     "text": [
      "(6131, 28, 28)\n"
     ]
    }
   ],
   "source": [
    "# to speed up the training we can pre-select\n",
    "# only images with label `3`\n",
    "X_train_three = X_train[y_train==3]\n",
    "print(X_train_three.shape)\n",
    "# there are 6131 images that represent the digit 3\n",
    "# (6131, 28, 28)"
   ]
  },
  {
   "cell_type": "code",
   "execution_count": 5,
   "id": "fb4cfb49",
   "metadata": {
    "collapsed": true
   },
   "outputs": [
    {
     "data": {
      "text/plain": [
       "<matplotlib.image.AxesImage at 0x7f371b07b370>"
      ]
     },
     "execution_count": 5,
     "metadata": {},
     "output_type": "execute_result"
    },
    {
     "data": {
      "image/png": "[encoded data removed]",
      "text/plain": [
       "<Figure size 1200x1200 with 9 Axes>"
      ]
     },
     "metadata": {},
     "output_type": "display_data"
    }
   ],
   "source": [
    "# plot results\n",
    "plt.figure(figsize=(12, 12))\n",
    "# ROW 1\n",
    "plt.subplot(3, 3, 1)\n",
    "plt.axis(False)\n",
    "plt.imshow(X_train_three[1])\n",
    "plt.subplot(3, 3, 2)\n",
    "plt.axis(False)\n",
    "plt.imshow(X_train_three[2])\n",
    "plt.subplot(3, 3, 3)\n",
    "plt.axis(False)\n",
    "plt.imshow(X_train_three[3])\n",
    "# ROW 2\n",
    "plt.subplot(3, 3, 4)\n",
    "plt.axis(False)\n",
    "plt.imshow(X_train_three[4])\n",
    "plt.subplot(3, 3, 5)\n",
    "plt.axis(False)\n",
    "plt.imshow(X_train_three[5])\n",
    "plt.subplot(3, 3, 6)\n",
    "plt.axis(False)\n",
    "plt.imshow(X_train_three[6])\n",
    "# ROW 3\n",
    "plt.subplot(3, 3, 7)\n",
    "plt.axis(False)\n",
    "plt.imshow(X_train_three[7])\n",
    "plt.subplot(3, 3, 8)\n",
    "plt.axis(False)\n",
    "plt.imshow(X_train_three[8])\n",
    "plt.subplot(3, 3, 9)\n",
    "plt.axis(False)\n",
    "plt.imshow(X_train_three[9])"
   ]
  },
  {
   "cell_type": "markdown",
   "id": "f8a843ef",
   "metadata": {},
   "source": [
    "![Generative Adverserial Networks](../assets/05_Tensorflow_Unsupervised_Learning_20.png)"
   ]
  },
  {
   "cell_type": "markdown",
   "id": "018f29d6",
   "metadata": {},
   "source": [
    "### Create Batched Dataset"
   ]
  },
  {
   "cell_type": "code",
   "execution_count": 7,
   "id": "2ee1dadb",
   "metadata": {},
   "outputs": [],
   "source": [
    "dataset = tf.data.Dataset.from_tensor_slices(X_train_three).shuffle(buffer_size=1000)\n",
    "dataset = dataset.batch(BATCH_SIZE, drop_remainder=True).prefetch(1)"
   ]
  },
  {
   "cell_type": "markdown",
   "id": "a9bc73f8",
   "metadata": {},
   "source": [
    "## Building the Model\n",
    "\n",
    "### Generator"
   ]
  },
  {
   "cell_type": "code",
   "execution_count": 8,
   "id": "dc095652",
   "metadata": {},
   "outputs": [],
   "source": [
    "tf.random.set_seed(SEED)\n",
    "\n",
    "generator = Sequential(name=\"generator\")\n",
    "generator.add(Dense(100, activation=\"relu\", input_shape=[INPUT_SHAPE]))\n",
    "generator.add(Dense(150,activation='relu'))\n",
    "generator.add(Dense(784, activation=\"sigmoid\")) # 28*28 = 784\n",
    "generator.add(Reshape([28,28]))"
   ]
  },
  {
   "cell_type": "markdown",
   "id": "30590f3b",
   "metadata": {},
   "source": [
    "### Discriminator"
   ]
  },
  {
   "cell_type": "code",
   "execution_count": 9,
   "id": "e7b6ee1b",
   "metadata": {},
   "outputs": [],
   "source": [
    "discriminator = Sequential(name=\"discriminator\")\n",
    "discriminator.add(Flatten(input_shape=[28,28]))\n",
    "discriminator.add(Dense(150,activation='relu'))\n",
    "discriminator.add(Dense(100,activation='relu'))\n",
    "discriminator.add(Dense(1,activation=\"sigmoid\"))\n",
    "\n",
    "discriminator.compile(loss=\"binary_crossentropy\", optimizer=\"adam\")\n",
    "discriminator.trainable = False"
   ]
  },
  {
   "cell_type": "code",
   "execution_count": 10,
   "id": "2a7ddb9a",
   "metadata": {
    "collapsed": true
   },
   "outputs": [
    {
     "name": "stdout",
     "output_type": "stream",
     "text": [
      "Model: \"sequential\"\n",
      "_________________________________________________________________\n",
      " Layer (type)                Output Shape              Param #   \n",
      "=================================================================\n",
      " generator (Sequential)      (None, 28, 28)            143634    \n",
      "                                                                 \n",
      " discriminator (Sequential)  (None, 1)                 132951    \n",
      "                                                                 \n",
      "=================================================================\n",
      "Total params: 276,585\n",
      "Trainable params: 143,634\n",
      "Non-trainable params: 132,951\n",
      "_________________________________________________________________\n"
     ]
    }
   ],
   "source": [
    "GAN = Sequential([generator, discriminator])\n",
    "\n",
    "GAN.compile(loss=\"binary_crossentropy\", optimizer=\"adam\")\n",
    "\n",
    "GAN.summary()\n",
    "\n",
    "# Model: \"sequential\"\n",
    "# _________________________________________________________________\n",
    "#  Layer (type)                Output Shape              Param #   \n",
    "# =================================================================\n",
    "#  generator (Sequential)      (None, 28, 28)            143634    \n",
    "                                                                 \n",
    "#  discriminator (Sequential)  (None, 1)                 132951    \n",
    "                                                                 \n",
    "# =================================================================\n",
    "# Total params: 276,585\n",
    "# Trainable params: 143,634\n",
    "# Non-trainable params: 132,951\n",
    "# _________________________________________________________________"
   ]
  },
  {
   "cell_type": "markdown",
   "id": "17d34e8e",
   "metadata": {},
   "source": [
    "## Training the Model"
   ]
  },
  {
   "cell_type": "code",
   "execution_count": 11,
   "id": "3284fe7b",
   "metadata": {
    "collapsed": true
   },
   "outputs": [
    {
     "name": "stdout",
     "output_type": "stream",
     "text": [
      "INFO :: Epoch: 1\n"
     ]
    },
    {
     "name": "stderr",
     "output_type": "stream",
     "text": [
      "2023-03-26 21:13:21.880478: I tensorflow/compiler/xla/service/service.cc:173] XLA service 0x7f364c03e050 initialized for platform CUDA (this does not guarantee that XLA will be used). Devices:\n",
      "2023-03-26 21:13:21.880503: I tensorflow/compiler/xla/service/service.cc:181]   StreamExecutor device (0): NVIDIA GeForce GTX 1060 6GB, Compute Capability 6.1\n",
      "2023-03-26 21:13:21.898408: I tensorflow/compiler/mlir/tensorflow/utils/dump_mlir_util.cc:268] disabling MLIR crash reproducer, set env var `MLIR_CRASH_REPRODUCER_DIRECTORY` to enable.\n",
      "2023-03-26 21:13:21.901946: I tensorflow/core/common_runtime/process_util.cc:146] Creating new thread pool with default inter op setting: 2. Tune using inter_op_parallelism_threads for best performance.\n",
      "2023-03-26 21:13:22.179513: I tensorflow/compiler/jit/xla_compilation_cache.cc:477] Compiled cluster using XLA!  This line is logged at most once for the lifetime of the process.\n"
     ]
    },
    {
     "name": "stdout",
     "output_type": "stream",
     "text": [
      "\tINFO :: Batch number: 100 of 191\n",
      "INFO :: Epoch: 2\n",
      "\tINFO :: Batch number: 100 of 191\n",
      "INFO :: Epoch: 3\n",
      "\tINFO :: Batch number: 100 of 191\n",
      "INFO :: Epoch: 4\n",
      "\tINFO :: Batch number: 100 of 191\n",
      "INFO :: Epoch: 5\n",
      "\tINFO :: Batch number: 100 of 191\n",
      "INFO :: Epoch: 6\n",
      "\tINFO :: Batch number: 100 of 191\n",
      "INFO :: Epoch: 7\n",
      "\tINFO :: Batch number: 100 of 191\n",
      "INFO :: Epoch: 8\n",
      "\tINFO :: Batch number: 100 of 191\n",
      "INFO :: Epoch: 9\n",
      "\tINFO :: Batch number: 100 of 191\n",
      "INFO :: Epoch: 10\n",
      "\tINFO :: Batch number: 100 of 191\n",
      "INFO :: Epoch: 11\n",
      "\tINFO :: Batch number: 100 of 191\n",
      "INFO :: Epoch: 12\n",
      "\tINFO :: Batch number: 100 of 191\n",
      "INFO :: Epoch: 13\n",
      "\tINFO :: Batch number: 100 of 191\n",
      "INFO :: Epoch: 14\n",
      "\tINFO :: Batch number: 100 of 191\n",
      "INFO :: Epoch: 15\n",
      "\tINFO :: Batch number: 100 of 191\n",
      "INFO :: Epoch: 16\n",
      "\tINFO :: Batch number: 100 of 191\n",
      "INFO :: Epoch: 17\n",
      "\tINFO :: Batch number: 100 of 191\n",
      "INFO :: Epoch: 18\n",
      "\tINFO :: Batch number: 100 of 191\n",
      "INFO :: Epoch: 19\n",
      "\tINFO :: Batch number: 100 of 191\n",
      "INFO :: Epoch: 20\n",
      "\tINFO :: Batch number: 100 of 191\n",
      "INFO :: Epoch: 21\n",
      "\tINFO :: Batch number: 100 of 191\n",
      "INFO :: Epoch: 22\n",
      "\tINFO :: Batch number: 100 of 191\n",
      "INFO :: Epoch: 23\n",
      "\tINFO :: Batch number: 100 of 191\n",
      "INFO :: Epoch: 24\n",
      "\tINFO :: Batch number: 100 of 191\n",
      "INFO :: Epoch: 25\n",
      "\tINFO :: Batch number: 100 of 191\n",
      "INFO :: Training Completed\n"
     ]
    }
   ],
   "source": [
    "# Grab the seprate components\n",
    "generator, discriminator = GAN.layers\n",
    "\n",
    "# For every epcoh\n",
    "for epoch in range(EPOCHS):\n",
    "    print(f\"INFO :: Epoch: {epoch+1}\")\n",
    "    i = 0\n",
    "    # For every batch in the dataset\n",
    "    for X_batch in dataset:\n",
    "        i=i+1\n",
    "        if i%100 == 0:\n",
    "            print(f\"\\tBatch number: {i} of {len(X_train_three)//BATCH_SIZE}\")\n",
    "        #####################################\n",
    "        ## TRAINING THE DISCRIMINATOR ######\n",
    "        ###################################\n",
    "        \n",
    "        # Create Noise\n",
    "        noise = tf.random.normal(shape=[BATCH_SIZE, INPUT_SHAPE])\n",
    "        \n",
    "        # Generate numbers based just on noise input\n",
    "        gen_images = generator(noise)\n",
    "        \n",
    "        # Concatenate Generated Images against the Real Ones\n",
    "        # TO use tf.concat, the data types must match!\n",
    "        X_fake_vs_real = tf.concat([gen_images, tf.dtypes.cast(X_batch,tf.float32)], axis=0)\n",
    "        \n",
    "        # Targets set to zero for fake images and 1 for real images\n",
    "        y1 = tf.constant([[0.]] * BATCH_SIZE + [[1.]] * BATCH_SIZE)\n",
    "        \n",
    "        # This gets rid of a Keras warning\n",
    "        discriminator.trainable = True\n",
    "        \n",
    "        # Train the discriminator on this batch\n",
    "        discriminator.train_on_batch(X_fake_vs_real, y1)\n",
    "        \n",
    "        \n",
    "        #####################################\n",
    "        ## TRAINING THE GENERATOR     ######\n",
    "        ###################################\n",
    "        \n",
    "        # Create some noise\n",
    "        noise = tf.random.normal(shape=[BATCH_SIZE, INPUT_SHAPE])\n",
    "        \n",
    "        # We want discriminator to belive that fake images are real\n",
    "        y2 = tf.constant([[1.]] * BATCH_SIZE)\n",
    "        \n",
    "        # Avois a warning\n",
    "        discriminator.trainable = False\n",
    "        \n",
    "        GAN.train_on_batch(noise, y2)\n",
    "        \n",
    "print(\"INFO :: Training Completed\")"
   ]
  },
  {
   "cell_type": "markdown",
   "id": "cc93007c",
   "metadata": {},
   "source": [
    "## Making Predictions\n",
    "\n",
    "The Generator expects a noise input tensor with input shape = INPUT_SHAPE. To have the Generator create an image - based on the previous training - we have to input such tensor of beautiful randomness."
   ]
  },
  {
   "cell_type": "code",
   "execution_count": 12,
   "id": "dcab05ff",
   "metadata": {
    "collapsed": true
   },
   "outputs": [
    {
     "name": "stdout",
     "output_type": "stream",
     "text": [
      "(10, 100)\n"
     ]
    },
    {
     "data": {
      "text/plain": [
       "<matplotlib.image.AxesImage at 0x7f36fc47d3c0>"
      ]
     },
     "execution_count": 12,
     "metadata": {},
     "output_type": "execute_result"
    },
    {
     "data": {
      "image/png": "[encoded data removed]",
      "text/plain": [
       "<Figure size 640x480 with 1 Axes>"
      ]
     },
     "metadata": {},
     "output_type": "display_data"
    }
   ],
   "source": [
    "# generate noise for 10 images\n",
    "noise_input = tf.random.normal(shape=[10, INPUT_SHAPE])\n",
    "\n",
    "print(noise_input.shape)\n",
    "# (10, 100)\n",
    "plt.imshow(noise_input)"
   ]
  },
  {
   "cell_type": "markdown",
   "id": "7d89f289",
   "metadata": {},
   "source": [
    "![Generative Adverserial Networks](../assets/05_Tensorflow_Unsupervised_Learning_21.png)"
   ]
  },
  {
   "cell_type": "code",
   "execution_count": 15,
   "id": "de37fdfa",
   "metadata": {
    "collapsed": true
   },
   "outputs": [
    {
     "data": {
      "text/plain": [
       "TensorShape([10, 28, 28])"
      ]
     },
     "execution_count": 15,
     "metadata": {},
     "output_type": "execute_result"
    }
   ],
   "source": [
    "generated_images = generator(noise_input)\n",
    "generated_images.shape\n",
    "# TensorShape([10, 28, 28])"
   ]
  },
  {
   "cell_type": "code",
   "execution_count": 16,
   "id": "91e548d7",
   "metadata": {
    "collapsed": true
   },
   "outputs": [
    {
     "data": {
      "text/plain": [
       "<matplotlib.image.AxesImage at 0x7f36f7fc61d0>"
      ]
     },
     "execution_count": 16,
     "metadata": {},
     "output_type": "execute_result"
    },
    {
     "data": {
      "image/png": "[encoded data removed]",
      "text/plain": [
       "<Figure size 1200x1200 with 9 Axes>"
      ]
     },
     "metadata": {},
     "output_type": "display_data"
    }
   ],
   "source": [
    "# plot results\n",
    "plt.figure(figsize=(12, 12))\n",
    "# ROW 1\n",
    "plt.subplot(3, 3, 1)\n",
    "plt.axis(False)\n",
    "plt.imshow(generated_images[0])\n",
    "plt.subplot(3, 3, 2)\n",
    "plt.axis(False)\n",
    "plt.imshow(generated_images[1])\n",
    "plt.subplot(3, 3, 3)\n",
    "plt.axis(False)\n",
    "plt.imshow(generated_images[2])\n",
    "# ROW 2\n",
    "plt.subplot(3, 3, 4)\n",
    "plt.axis(False)\n",
    "plt.imshow(generated_images[3])\n",
    "plt.subplot(3, 3, 5)\n",
    "plt.axis(False)\n",
    "plt.imshow(generated_images[4])\n",
    "plt.subplot(3, 3, 6)\n",
    "plt.axis(False)\n",
    "plt.imshow(generated_images[5])\n",
    "# ROW 3\n",
    "plt.subplot(3, 3, 7)\n",
    "plt.axis(False)\n",
    "plt.imshow(generated_images[6])\n",
    "plt.subplot(3, 3, 8)\n",
    "plt.axis(False)\n",
    "plt.imshow(generated_images[7])\n",
    "plt.subplot(3, 3, 9)\n",
    "plt.axis(False)\n",
    "plt.imshow(generated_images[8])"
   ]
  },
  {
   "cell_type": "markdown",
   "id": "cbf76cc8",
   "metadata": {},
   "source": [
    "![Generative Adverserial Networks](../assets/05_Tensorflow_Unsupervised_Learning_22.png)\n",
    "\n",
    "Why do all generated `3`'s look the same? => [Combating Mode Collapse in GAN training: An Empirical Analysis using Hessian Eigenvalues](https://arxiv.org/abs/2012.09673)"
   ]
  },
  {
   "cell_type": "markdown",
   "id": "791a53b2",
   "metadata": {},
   "source": [
    "# Deep Convolutional Generative Adversarial Networks (DCGAN)\n",
    "\n",
    "A DCGAN is a direct extension of the GAN described above, except that it explicitly uses convolutional and convolutional-transpose layers in the discriminator and generator, respectively. It was first described by Radford et. al. in the paper [Unsupervised Representation Learning With Deep Convolutional Generative Adversarial Networks](https://arxiv.org/pdf/1511.06434.pdf).\n",
    "\n",
    "\n",
    "The __Discriminator__ is made up of strided convolution layers, batch norm layers, and LeakyReLU activations. The input is a 3x64x64 input image and the output is a scalar probability that the input is from the real data distribution.\n",
    "\n",
    "\n",
    "The __Generator__ is comprised of convolutional-transpose layers, batch norm layers, and ReLU activations. The input is a latent vector, \\(z\\), that is drawn from a standard normal distribution and the output is a 3x64x64 RGB image. The strided conv-transpose layers allow the latent vector to be transformed into a volume with the same shape as an image."
   ]
  },
  {
   "cell_type": "markdown",
   "id": "f17474a8",
   "metadata": {},
   "source": [
    "## Dataset"
   ]
  },
  {
   "cell_type": "code",
   "execution_count": 18,
   "id": "6680758b",
   "metadata": {},
   "outputs": [
    {
     "name": "stdout",
     "output_type": "stream",
     "text": [
      "(60000, 28, 28) (60000, 28, 28, 1) -1.0 1.0\n"
     ]
    }
   ],
   "source": [
    "# Generator will use tanh activation function for the last layer,\n",
    "# so we want to reshape X_train to be within -1 to 1 limits\n",
    "X_train_norm = X_train/255\n",
    "X_train_reshaped = X_train_norm.reshape(-1, 28, 28, 1) * 2. - 1.\n",
    "\n",
    "print(X_train_norm.shape, X_train_reshaped.shape, X_train_reshaped.min(), X_train_reshaped.max())"
   ]
  },
  {
   "cell_type": "code",
   "execution_count": 19,
   "id": "0f1d47d8",
   "metadata": {},
   "outputs": [
    {
     "name": "stdout",
     "output_type": "stream",
     "text": [
      "(6131, 28, 28, 1)\n"
     ]
    }
   ],
   "source": [
    "# only images with label `3`\n",
    "X_train_three_dcgan = X_train_reshaped[y_train==3]\n",
    "print(X_train_three_dcgan.shape)\n",
    "# (6131, 28, 28, 1)"
   ]
  },
  {
   "cell_type": "markdown",
   "id": "06d35db9",
   "metadata": {},
   "source": [
    "### Create Batched Dataset"
   ]
  },
  {
   "cell_type": "code",
   "execution_count": 26,
   "id": "c265f0ff",
   "metadata": {},
   "outputs": [],
   "source": [
    "dataset = tf.data.Dataset.from_tensor_slices(X_train_three_dcgan).shuffle(buffer_size=1000)\n",
    "dataset = dataset.batch(BATCH_SIZE, drop_remainder=True).prefetch(1)"
   ]
  },
  {
   "cell_type": "markdown",
   "id": "5fc46aed",
   "metadata": {},
   "source": [
    "## Building the Model\n",
    "\n",
    "### Generator"
   ]
  },
  {
   "cell_type": "code",
   "execution_count": 20,
   "id": "00c7f915",
   "metadata": {},
   "outputs": [],
   "source": [
    "tf.random.set_seed(SEED)\n",
    "\n",
    "generator = Sequential()\n",
    "generator.add(Dense(7 * 7 * 128, input_shape=[INPUT_SHAPE]))\n",
    "generator.add(Reshape([7, 7, 128]))\n",
    "generator.add(BatchNormalization())\n",
    "generator.add(Conv2DTranspose(64, kernel_size=5, strides=2, padding=\"same\",\n",
    "                                 activation=\"relu\"))\n",
    "generator.add(BatchNormalization())\n",
    "generator.add(Conv2DTranspose(1, kernel_size=5, strides=2, padding=\"same\",\n",
    "                                 activation=\"tanh\"))"
   ]
  },
  {
   "cell_type": "markdown",
   "id": "4c4904ef",
   "metadata": {},
   "source": [
    "### Discriminator"
   ]
  },
  {
   "cell_type": "code",
   "execution_count": 22,
   "id": "cad7457d",
   "metadata": {},
   "outputs": [],
   "source": [
    "discriminator = Sequential()\n",
    "discriminator.add(Conv2D(64, kernel_size=5, strides=2, padding=\"same\",\n",
    "                        activation=LeakyReLU(0.3),\n",
    "                        input_shape=[28, 28, 1]))\n",
    "discriminator.add(Dropout(0.5))\n",
    "discriminator.add(Conv2D(128, kernel_size=5, strides=2, padding=\"same\",\n",
    "                        activation=LeakyReLU(0.3)))\n",
    "discriminator.add(Dropout(0.5))\n",
    "discriminator.add(Flatten())\n",
    "discriminator.add(Dense(1, activation=\"sigmoid\"))\n",
    "\n",
    "discriminator.compile(loss=\"binary_crossentropy\", optimizer=\"adam\")\n",
    "discriminator.trainable = False"
   ]
  },
  {
   "cell_type": "code",
   "execution_count": 23,
   "id": "fd061df5",
   "metadata": {
    "collapsed": true
   },
   "outputs": [
    {
     "name": "stdout",
     "output_type": "stream",
     "text": [
      "Model: \"sequential_4\"\n",
      "_________________________________________________________________\n",
      " Layer (type)                Output Shape              Param #   \n",
      "=================================================================\n",
      " sequential_1 (Sequential)   (None, 28, 28, 1)         840705    \n",
      "                                                                 \n",
      " sequential_3 (Sequential)   (None, 1)                 212865    \n",
      "                                                                 \n",
      "=================================================================\n",
      "Total params: 1,053,570\n",
      "Trainable params: 840,321\n",
      "Non-trainable params: 213,249\n",
      "_________________________________________________________________\n"
     ]
    }
   ],
   "source": [
    "GAN = Sequential([generator, discriminator])\n",
    "GAN.compile(loss=\"binary_crossentropy\", optimizer=\"adam\")\n",
    "GAN.summary()\n",
    "\n",
    "# Model: \"sequential_4\"\n",
    "# _________________________________________________________________\n",
    "#  Layer (type)                Output Shape              Param #   \n",
    "# =================================================================\n",
    "#  sequential_1 (Sequential)   (None, 28, 28, 1)         840705    \n",
    "                                                                 \n",
    "#  sequential_3 (Sequential)   (None, 1)                 212865    \n",
    "                                                                 \n",
    "# =================================================================\n",
    "# Total params: 1,053,570\n",
    "# Trainable params: 840,321\n",
    "# Non-trainable params: 213,249\n",
    "# _________________________________________________________________"
   ]
  },
  {
   "cell_type": "markdown",
   "id": "1ab70dda",
   "metadata": {},
   "source": [
    "## Model Training"
   ]
  },
  {
   "cell_type": "code",
   "execution_count": 28,
   "id": "689a46a8",
   "metadata": {
    "collapsed": true
   },
   "outputs": [
    {
     "name": "stdout",
     "output_type": "stream",
     "text": [
      "INFO :: Epoch: 1\n"
     ]
    },
    {
     "name": "stderr",
     "output_type": "stream",
     "text": [
      "2023-03-26 21:45:50.375077: E tensorflow/core/grappler/optimizers/meta_optimizer.cc:954] layout failed: INVALID_ARGUMENT: Size of values 0 does not match size of permutation 4 @ fanin shape insequential_4/sequential_3/dropout_2/dropout/SelectV2-2-TransposeNHWCToNCHW-LayoutOptimizer\n"
     ]
    },
    {
     "name": "stdout",
     "output_type": "stream",
     "text": [
      "\tBatch number: 20 of 191\n",
      "\tBatch number: 40 of 191\n",
      "\tBatch number: 60 of 191\n",
      "\tBatch number: 80 of 191\n",
      "\tBatch number: 100 of 191\n",
      "\tBatch number: 120 of 191\n",
      "\tBatch number: 140 of 191\n",
      "\tBatch number: 160 of 191\n",
      "\tBatch number: 180 of 191\n",
      "INFO :: Epoch: 2\n",
      "\tBatch number: 20 of 191\n",
      "\tBatch number: 40 of 191\n",
      "\tBatch number: 60 of 191\n",
      "\tBatch number: 80 of 191\n",
      "\tBatch number: 100 of 191\n",
      "\tBatch number: 120 of 191\n",
      "\tBatch number: 140 of 191\n",
      "\tBatch number: 160 of 191\n",
      "\tBatch number: 180 of 191\n",
      "INFO :: Epoch: 3\n",
      "\tBatch number: 20 of 191\n",
      "\tBatch number: 40 of 191\n",
      "\tBatch number: 60 of 191\n",
      "\tBatch number: 80 of 191\n",
      "\tBatch number: 100 of 191\n",
      "\tBatch number: 120 of 191\n",
      "\tBatch number: 140 of 191\n",
      "\tBatch number: 160 of 191\n",
      "\tBatch number: 180 of 191\n",
      "INFO :: Epoch: 4\n",
      "\tBatch number: 20 of 191\n",
      "\tBatch number: 40 of 191\n",
      "\tBatch number: 60 of 191\n",
      "\tBatch number: 80 of 191\n",
      "\tBatch number: 100 of 191\n",
      "\tBatch number: 120 of 191\n",
      "\tBatch number: 140 of 191\n",
      "\tBatch number: 160 of 191\n",
      "\tBatch number: 180 of 191\n",
      "INFO :: Epoch: 5\n",
      "\tBatch number: 20 of 191\n",
      "\tBatch number: 40 of 191\n",
      "\tBatch number: 60 of 191\n",
      "\tBatch number: 80 of 191\n",
      "\tBatch number: 100 of 191\n",
      "\tBatch number: 120 of 191\n",
      "\tBatch number: 140 of 191\n",
      "\tBatch number: 160 of 191\n",
      "\tBatch number: 180 of 191\n",
      "INFO :: Epoch: 6\n",
      "\tBatch number: 20 of 191\n",
      "\tBatch number: 40 of 191\n",
      "\tBatch number: 60 of 191\n",
      "\tBatch number: 80 of 191\n",
      "\tBatch number: 100 of 191\n",
      "\tBatch number: 120 of 191\n",
      "\tBatch number: 140 of 191\n",
      "\tBatch number: 160 of 191\n",
      "\tBatch number: 180 of 191\n",
      "INFO :: Epoch: 7\n",
      "\tBatch number: 20 of 191\n",
      "\tBatch number: 40 of 191\n",
      "\tBatch number: 60 of 191\n",
      "\tBatch number: 80 of 191\n",
      "\tBatch number: 100 of 191\n",
      "\tBatch number: 120 of 191\n",
      "\tBatch number: 140 of 191\n",
      "\tBatch number: 160 of 191\n",
      "\tBatch number: 180 of 191\n",
      "INFO :: Epoch: 8\n",
      "\tBatch number: 20 of 191\n",
      "\tBatch number: 40 of 191\n",
      "\tBatch number: 60 of 191\n",
      "\tBatch number: 80 of 191\n",
      "\tBatch number: 100 of 191\n",
      "\tBatch number: 120 of 191\n",
      "\tBatch number: 140 of 191\n",
      "\tBatch number: 160 of 191\n",
      "\tBatch number: 180 of 191\n",
      "INFO :: Epoch: 9\n",
      "\tBatch number: 20 of 191\n",
      "\tBatch number: 40 of 191\n",
      "\tBatch number: 60 of 191\n",
      "\tBatch number: 80 of 191\n",
      "\tBatch number: 100 of 191\n",
      "\tBatch number: 120 of 191\n",
      "\tBatch number: 140 of 191\n",
      "\tBatch number: 160 of 191\n",
      "\tBatch number: 180 of 191\n",
      "INFO :: Epoch: 10\n",
      "\tBatch number: 20 of 191\n",
      "\tBatch number: 40 of 191\n",
      "\tBatch number: 60 of 191\n",
      "\tBatch number: 80 of 191\n",
      "\tBatch number: 100 of 191\n",
      "\tBatch number: 120 of 191\n",
      "\tBatch number: 140 of 191\n",
      "\tBatch number: 160 of 191\n",
      "\tBatch number: 180 of 191\n",
      "INFO :: Epoch: 11\n",
      "\tBatch number: 20 of 191\n",
      "\tBatch number: 40 of 191\n",
      "\tBatch number: 60 of 191\n",
      "\tBatch number: 80 of 191\n",
      "\tBatch number: 100 of 191\n",
      "\tBatch number: 120 of 191\n",
      "\tBatch number: 140 of 191\n",
      "\tBatch number: 160 of 191\n",
      "\tBatch number: 180 of 191\n",
      "INFO :: Epoch: 12\n",
      "\tBatch number: 20 of 191\n",
      "\tBatch number: 40 of 191\n",
      "\tBatch number: 60 of 191\n",
      "\tBatch number: 80 of 191\n",
      "\tBatch number: 100 of 191\n",
      "\tBatch number: 120 of 191\n",
      "\tBatch number: 140 of 191\n",
      "\tBatch number: 160 of 191\n",
      "\tBatch number: 180 of 191\n",
      "INFO :: Epoch: 13\n",
      "\tBatch number: 20 of 191\n",
      "\tBatch number: 40 of 191\n",
      "\tBatch number: 60 of 191\n",
      "\tBatch number: 80 of 191\n",
      "\tBatch number: 100 of 191\n",
      "\tBatch number: 120 of 191\n",
      "\tBatch number: 140 of 191\n",
      "\tBatch number: 160 of 191\n",
      "\tBatch number: 180 of 191\n",
      "INFO :: Epoch: 14\n",
      "\tBatch number: 20 of 191\n",
      "\tBatch number: 40 of 191\n",
      "\tBatch number: 60 of 191\n",
      "\tBatch number: 80 of 191\n",
      "\tBatch number: 100 of 191\n",
      "\tBatch number: 120 of 191\n",
      "\tBatch number: 140 of 191\n",
      "\tBatch number: 160 of 191\n",
      "\tBatch number: 180 of 191\n",
      "INFO :: Epoch: 15\n",
      "\tBatch number: 20 of 191\n",
      "\tBatch number: 40 of 191\n",
      "\tBatch number: 60 of 191\n",
      "\tBatch number: 80 of 191\n",
      "\tBatch number: 100 of 191\n",
      "\tBatch number: 120 of 191\n",
      "\tBatch number: 140 of 191\n",
      "\tBatch number: 160 of 191\n",
      "\tBatch number: 180 of 191\n",
      "INFO :: Epoch: 16\n",
      "\tBatch number: 20 of 191\n",
      "\tBatch number: 40 of 191\n",
      "\tBatch number: 60 of 191\n",
      "\tBatch number: 80 of 191\n",
      "\tBatch number: 100 of 191\n",
      "\tBatch number: 120 of 191\n",
      "\tBatch number: 140 of 191\n",
      "\tBatch number: 160 of 191\n",
      "\tBatch number: 180 of 191\n",
      "INFO :: Epoch: 17\n",
      "\tBatch number: 20 of 191\n",
      "\tBatch number: 40 of 191\n",
      "\tBatch number: 60 of 191\n",
      "\tBatch number: 80 of 191\n",
      "\tBatch number: 100 of 191\n",
      "\tBatch number: 120 of 191\n",
      "\tBatch number: 140 of 191\n",
      "\tBatch number: 160 of 191\n",
      "\tBatch number: 180 of 191\n",
      "INFO :: Epoch: 18\n",
      "\tBatch number: 20 of 191\n",
      "\tBatch number: 40 of 191\n",
      "\tBatch number: 60 of 191\n",
      "\tBatch number: 80 of 191\n",
      "\tBatch number: 100 of 191\n",
      "\tBatch number: 120 of 191\n",
      "\tBatch number: 140 of 191\n",
      "\tBatch number: 160 of 191\n",
      "\tBatch number: 180 of 191\n",
      "INFO :: Epoch: 19\n",
      "\tBatch number: 20 of 191\n",
      "\tBatch number: 40 of 191\n",
      "\tBatch number: 60 of 191\n",
      "\tBatch number: 80 of 191\n",
      "\tBatch number: 100 of 191\n",
      "\tBatch number: 120 of 191\n",
      "\tBatch number: 140 of 191\n",
      "\tBatch number: 160 of 191\n",
      "\tBatch number: 180 of 191\n",
      "INFO :: Epoch: 20\n",
      "\tBatch number: 20 of 191\n",
      "\tBatch number: 40 of 191\n",
      "\tBatch number: 60 of 191\n",
      "\tBatch number: 80 of 191\n",
      "\tBatch number: 100 of 191\n",
      "\tBatch number: 120 of 191\n",
      "\tBatch number: 140 of 191\n",
      "\tBatch number: 160 of 191\n",
      "\tBatch number: 180 of 191\n",
      "INFO :: Epoch: 21\n",
      "\tBatch number: 20 of 191\n",
      "\tBatch number: 40 of 191\n",
      "\tBatch number: 60 of 191\n",
      "\tBatch number: 80 of 191\n",
      "\tBatch number: 100 of 191\n",
      "\tBatch number: 120 of 191\n",
      "\tBatch number: 140 of 191\n",
      "\tBatch number: 160 of 191\n",
      "\tBatch number: 180 of 191\n",
      "INFO :: Epoch: 22\n",
      "\tBatch number: 20 of 191\n",
      "\tBatch number: 40 of 191\n",
      "\tBatch number: 60 of 191\n",
      "\tBatch number: 80 of 191\n",
      "\tBatch number: 100 of 191\n",
      "\tBatch number: 120 of 191\n",
      "\tBatch number: 140 of 191\n",
      "\tBatch number: 160 of 191\n",
      "\tBatch number: 180 of 191\n",
      "INFO :: Epoch: 23\n",
      "\tBatch number: 20 of 191\n",
      "\tBatch number: 40 of 191\n",
      "\tBatch number: 60 of 191\n",
      "\tBatch number: 80 of 191\n",
      "\tBatch number: 100 of 191\n",
      "\tBatch number: 120 of 191\n",
      "\tBatch number: 140 of 191\n",
      "\tBatch number: 160 of 191\n",
      "\tBatch number: 180 of 191\n",
      "INFO :: Epoch: 24\n",
      "\tBatch number: 20 of 191\n",
      "\tBatch number: 40 of 191\n",
      "\tBatch number: 60 of 191\n",
      "\tBatch number: 80 of 191\n",
      "\tBatch number: 100 of 191\n",
      "\tBatch number: 120 of 191\n",
      "\tBatch number: 140 of 191\n",
      "\tBatch number: 160 of 191\n",
      "\tBatch number: 180 of 191\n",
      "INFO :: Epoch: 25\n",
      "\tBatch number: 20 of 191\n",
      "\tBatch number: 40 of 191\n",
      "\tBatch number: 60 of 191\n",
      "\tBatch number: 80 of 191\n",
      "\tBatch number: 100 of 191\n",
      "\tBatch number: 120 of 191\n",
      "\tBatch number: 140 of 191\n",
      "\tBatch number: 160 of 191\n",
      "\tBatch number: 180 of 191\n",
      "TRAINING COMPLETE\n"
     ]
    }
   ],
   "source": [
    "# Grab the seprate components\n",
    "generator, discriminator = GAN.layers\n",
    "\n",
    "# For every epcoh\n",
    "for epoch in range(EPOCHS):\n",
    "    print(f\"INFO :: Epoch: {epoch+1}\")\n",
    "    i = 0\n",
    "    # For every batch in the dataset\n",
    "    for X_batch in dataset:\n",
    "        i=i+1\n",
    "        if i%20 == 0:\n",
    "            print(f\"\\tBatch number: {i} of {len(X_train_three)//BATCH_SIZE}\")\n",
    "        #####################################\n",
    "        ## TRAINING THE DISCRIMINATOR ######\n",
    "        ###################################\n",
    "        \n",
    "        # Create Noise\n",
    "        noise = tf.random.normal(shape=[BATCH_SIZE, INPUT_SHAPE])\n",
    "        \n",
    "        # Generate numbers based just on noise input\n",
    "        gen_images = generator(noise)\n",
    "        \n",
    "        # Concatenate Generated Images against the Real Ones\n",
    "        # TO use tf.concat, the data types must match!\n",
    "        X_fake_vs_real = tf.concat([gen_images, tf.dtypes.cast(X_batch,tf.float32)], axis=0)\n",
    "        \n",
    "        # Targets set to zero for fake images and 1 for real images\n",
    "        y1 = tf.constant([[0.]] * BATCH_SIZE + [[1.]] * BATCH_SIZE)\n",
    "        \n",
    "        # This gets rid of a Keras warning\n",
    "        discriminator.trainable = True\n",
    "        \n",
    "        # Train the discriminator on this batch\n",
    "        discriminator.train_on_batch(X_fake_vs_real, y1)\n",
    "        \n",
    "        \n",
    "        #####################################\n",
    "        ## TRAINING THE GENERATOR     ######\n",
    "        ###################################\n",
    "        \n",
    "        # Create some noise\n",
    "        noise = tf.random.normal(shape=[BATCH_SIZE, INPUT_SHAPE])\n",
    "        \n",
    "        # We want discriminator to belive that fake images are real\n",
    "        y2 = tf.constant([[1.]] * BATCH_SIZE)\n",
    "        \n",
    "        # Avois a warning\n",
    "        discriminator.trainable = False\n",
    "        \n",
    "        GAN.train_on_batch(noise, y2)\n",
    "        \n",
    "print(\"TRAINING COMPLETE\")            "
   ]
  },
  {
   "cell_type": "markdown",
   "id": "dc02c701",
   "metadata": {},
   "source": [
    "## Making Predictions\n",
    "\n",
    "The Generator expects a noise input tensor with input shape = INPUT_SHAPE. To have the Generator create an image - based on the previous training - we have to input such tensor of beautiful randomness."
   ]
  },
  {
   "cell_type": "code",
   "execution_count": 29,
   "id": "a63f6a1b",
   "metadata": {
    "collapsed": true
   },
   "outputs": [
    {
     "name": "stdout",
     "output_type": "stream",
     "text": [
      "(10, 100)\n"
     ]
    },
    {
     "data": {
      "text/plain": [
       "<matplotlib.image.AxesImage at 0x7f366045fc10>"
      ]
     },
     "execution_count": 29,
     "metadata": {},
     "output_type": "execute_result"
    },
    {
     "data": {
      "image/png": "[encoded data removed]",
      "text/plain": [
       "<Figure size 640x480 with 1 Axes>"
      ]
     },
     "metadata": {},
     "output_type": "display_data"
    }
   ],
   "source": [
    "# generate noise for 10 images\n",
    "noise_input = tf.random.normal(shape=[10, INPUT_SHAPE])\n",
    "\n",
    "print(noise_input.shape)\n",
    "# (10, 100)"
   ]
  },
  {
   "cell_type": "code",
   "execution_count": 30,
   "id": "d59ae177",
   "metadata": {
    "collapsed": true
   },
   "outputs": [
    {
     "data": {
      "text/plain": [
       "TensorShape([10, 28, 28, 1])"
      ]
     },
     "execution_count": 30,
     "metadata": {},
     "output_type": "execute_result"
    }
   ],
   "source": [
    "generated_images = generator(noise_input)\n",
    "generated_images.shape\n",
    "# TensorShape([10, 28, 28])"
   ]
  },
  {
   "cell_type": "code",
   "execution_count": 31,
   "id": "9493246a",
   "metadata": {
    "collapsed": true
   },
   "outputs": [
    {
     "data": {
      "text/plain": [
       "<matplotlib.image.AxesImage at 0x7f3660d99630>"
      ]
     },
     "execution_count": 31,
     "metadata": {},
     "output_type": "execute_result"
    },
    {
     "data": {
      "image/png": "[encoded data removed]",
      "text/plain": [
       "<Figure size 1200x1200 with 9 Axes>"
      ]
     },
     "metadata": {},
     "output_type": "display_data"
    }
   ],
   "source": [
    "# plot results\n",
    "plt.figure(figsize=(12, 12))\n",
    "# ROW 1\n",
    "plt.subplot(3, 3, 1)\n",
    "plt.axis(False)\n",
    "plt.imshow(generated_images[0])\n",
    "plt.subplot(3, 3, 2)\n",
    "plt.axis(False)\n",
    "plt.imshow(generated_images[1])\n",
    "plt.subplot(3, 3, 3)\n",
    "plt.axis(False)\n",
    "plt.imshow(generated_images[2])\n",
    "# ROW 2\n",
    "plt.subplot(3, 3, 4)\n",
    "plt.axis(False)\n",
    "plt.imshow(generated_images[3])\n",
    "plt.subplot(3, 3, 5)\n",
    "plt.axis(False)\n",
    "plt.imshow(generated_images[4])\n",
    "plt.subplot(3, 3, 6)\n",
    "plt.axis(False)\n",
    "plt.imshow(generated_images[5])\n",
    "# ROW 3\n",
    "plt.subplot(3, 3, 7)\n",
    "plt.axis(False)\n",
    "plt.imshow(generated_images[6])\n",
    "plt.subplot(3, 3, 8)\n",
    "plt.axis(False)\n",
    "plt.imshow(generated_images[7])\n",
    "plt.subplot(3, 3, 9)\n",
    "plt.axis(False)\n",
    "plt.imshow(generated_images[8])"
   ]
  },
  {
   "cell_type": "markdown",
   "id": "57e90696",
   "metadata": {},
   "source": [
    "![Generative Adverserial Networks](../assets/05_Tensorflow_Unsupervised_Learning_23.png)"
   ]
  },
  {
   "cell_type": "code",
   "execution_count": null,
   "id": "d59e8981",
   "metadata": {},
   "outputs": [],
   "source": []
  }
 ],
 "metadata": {
  "jupytext": {
   "formats": "ipynb,md"
  },
  "kernelspec": {
   "display_name": "Python 3 (ipykernel)",
   "language": "python",
   "name": "python3"
  },
  "language_info": {
   "codemirror_mode": {
    "name": "ipython",
    "version": 3
   },
   "file_extension": ".py",
   "mimetype": "text/x-python",
   "name": "python",
   "nbconvert_exporter": "python",
   "pygments_lexer": "ipython3",
   "version": "3.10.9"
  }
 },
 "nbformat": 4,
 "nbformat_minor": 5
}
